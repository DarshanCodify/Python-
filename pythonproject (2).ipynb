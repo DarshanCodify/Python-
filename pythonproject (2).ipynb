{
 "cells": [
  {
   "cell_type": "code",
   "execution_count": 17,
   "id": "2b7a3955",
   "metadata": {},
   "outputs": [],
   "source": [
    "import pandas as pd\n",
    "df=pd.read_excel(r\"C:\\Users\\Darshan R\\Downloads\\Data.xlsx\")"
   ]
  },
  {
   "cell_type": "code",
   "execution_count": 18,
   "id": "444c2183",
   "metadata": {},
   "outputs": [
    {
     "data": {
      "text/html": [
       "<div>\n",
       "<style scoped>\n",
       "    .dataframe tbody tr th:only-of-type {\n",
       "        vertical-align: middle;\n",
       "    }\n",
       "\n",
       "    .dataframe tbody tr th {\n",
       "        vertical-align: top;\n",
       "    }\n",
       "\n",
       "    .dataframe thead th {\n",
       "        text-align: right;\n",
       "    }\n",
       "</style>\n",
       "<table border=\"1\" class=\"dataframe\">\n",
       "  <thead>\n",
       "    <tr style=\"text-align: right;\">\n",
       "      <th></th>\n",
       "      <th>Name</th>\n",
       "      <th>Gender</th>\n",
       "      <th>Department</th>\n",
       "      <th>Salary</th>\n",
       "      <th>Loc</th>\n",
       "      <th>Rating</th>\n",
       "    </tr>\n",
       "  </thead>\n",
       "  <tbody>\n",
       "    <tr>\n",
       "      <th>0</th>\n",
       "      <td>Ches Bonnell</td>\n",
       "      <td>Male</td>\n",
       "      <td>Sales</td>\n",
       "      <td>$88,050</td>\n",
       "      <td>Bellevue</td>\n",
       "      <td>Very Good</td>\n",
       "    </tr>\n",
       "    <tr>\n",
       "      <th>1</th>\n",
       "      <td>Garwin Peasegood</td>\n",
       "      <td>Female</td>\n",
       "      <td>Engineering</td>\n",
       "      <td>$68,220</td>\n",
       "      <td>Bellevue</td>\n",
       "      <td>Good</td>\n",
       "    </tr>\n",
       "    <tr>\n",
       "      <th>2</th>\n",
       "      <td>Sidoney Yitzhok</td>\n",
       "      <td>Female</td>\n",
       "      <td>NaN</td>\n",
       "      <td>$118,440</td>\n",
       "      <td>Wellington</td>\n",
       "      <td>Not Rated</td>\n",
       "    </tr>\n",
       "    <tr>\n",
       "      <th>3</th>\n",
       "      <td>Saunders Blumson</td>\n",
       "      <td>NaN</td>\n",
       "      <td>Legal</td>\n",
       "      <td>$56,370</td>\n",
       "      <td>Los Angeles</td>\n",
       "      <td>Very Good</td>\n",
       "    </tr>\n",
       "    <tr>\n",
       "      <th>4</th>\n",
       "      <td>Gardy Grigorey</td>\n",
       "      <td>Female</td>\n",
       "      <td>Support</td>\n",
       "      <td>$107,090</td>\n",
       "      <td>Los Angeles</td>\n",
       "      <td>Poor</td>\n",
       "    </tr>\n",
       "    <tr>\n",
       "      <th>...</th>\n",
       "      <td>...</td>\n",
       "      <td>...</td>\n",
       "      <td>...</td>\n",
       "      <td>...</td>\n",
       "      <td>...</td>\n",
       "      <td>...</td>\n",
       "    </tr>\n",
       "    <tr>\n",
       "      <th>1010</th>\n",
       "      <td>Shaylyn Ransbury</td>\n",
       "      <td>Female</td>\n",
       "      <td>Support</td>\n",
       "      <td>$100,370</td>\n",
       "      <td>Wellington</td>\n",
       "      <td>Average</td>\n",
       "    </tr>\n",
       "    <tr>\n",
       "      <th>1011</th>\n",
       "      <td>Christoph Stretton</td>\n",
       "      <td>Female</td>\n",
       "      <td>Business Development</td>\n",
       "      <td>$90,240</td>\n",
       "      <td>Wellington</td>\n",
       "      <td>Poor</td>\n",
       "    </tr>\n",
       "    <tr>\n",
       "      <th>1012</th>\n",
       "      <td>Jordain Cyster</td>\n",
       "      <td>Female</td>\n",
       "      <td>Engineering</td>\n",
       "      <td>$75,870</td>\n",
       "      <td>Los Angeles</td>\n",
       "      <td>Average</td>\n",
       "    </tr>\n",
       "    <tr>\n",
       "      <th>1013</th>\n",
       "      <td>Malory Biles</td>\n",
       "      <td>Female</td>\n",
       "      <td>Training</td>\n",
       "      <td>$58,740</td>\n",
       "      <td>Los Angeles</td>\n",
       "      <td>Not Rated</td>\n",
       "    </tr>\n",
       "    <tr>\n",
       "      <th>1014</th>\n",
       "      <td>Adey Ryal</td>\n",
       "      <td>Female</td>\n",
       "      <td>Legal</td>\n",
       "      <td>$32,500</td>\n",
       "      <td>Bellevue</td>\n",
       "      <td>Average</td>\n",
       "    </tr>\n",
       "  </tbody>\n",
       "</table>\n",
       "<p>1015 rows × 6 columns</p>\n",
       "</div>"
      ],
      "text/plain": [
       "                    Name  Gender            Department     Salary  \\\n",
       "0           Ches Bonnell    Male                 Sales   $88,050    \n",
       "1       Garwin Peasegood  Female           Engineering   $68,220    \n",
       "2        Sidoney Yitzhok  Female                   NaN  $118,440    \n",
       "3       Saunders Blumson     NaN                 Legal   $56,370    \n",
       "4         Gardy Grigorey  Female               Support  $107,090    \n",
       "...                  ...     ...                   ...        ...   \n",
       "1010    Shaylyn Ransbury  Female               Support  $100,370    \n",
       "1011  Christoph Stretton  Female  Business Development   $90,240    \n",
       "1012      Jordain Cyster  Female           Engineering   $75,870    \n",
       "1013        Malory Biles  Female              Training   $58,740    \n",
       "1014           Adey Ryal  Female                 Legal   $32,500    \n",
       "\n",
       "              Loc     Rating  \n",
       "0        Bellevue  Very Good  \n",
       "1        Bellevue       Good  \n",
       "2      Wellington  Not Rated  \n",
       "3     Los Angeles  Very Good  \n",
       "4     Los Angeles       Poor  \n",
       "...           ...        ...  \n",
       "1010   Wellington    Average  \n",
       "1011   Wellington       Poor  \n",
       "1012  Los Angeles    Average  \n",
       "1013  Los Angeles  Not Rated  \n",
       "1014     Bellevue    Average  \n",
       "\n",
       "[1015 rows x 6 columns]"
      ]
     },
     "execution_count": 18,
     "metadata": {},
     "output_type": "execute_result"
    }
   ],
   "source": [
    "pd.read_excel(r\"C:\\Users\\Darshan R\\Downloads\\Data.xlsx\")"
   ]
  },
  {
   "cell_type": "code",
   "execution_count": 19,
   "id": "396d30ea",
   "metadata": {},
   "outputs": [
    {
     "name": "stdout",
     "output_type": "stream",
     "text": [
      "Gender distribution in the entire organization:\n",
      "Gender\n",
      "Male      501\n",
      "Female    471\n",
      "Name: count, dtype: int64\n"
     ]
    }
   ],
   "source": [
    "#1. How many Males/Females are there in the entire organization?\n",
    "gender_total = df['Gender'].value_counts()\n",
    "\n",
    "print('Gender distribution in the entire organization:')\n",
    "print(gender_total)"
   ]
  },
  {
   "cell_type": "code",
   "execution_count": 20,
   "id": "aa937635",
   "metadata": {},
   "outputs": [
    {
     "name": "stdout",
     "output_type": "stream",
     "text": [
      "Gender distribution by Department:\n",
      "Gender                    Female  Male\n",
      "Department                            \n",
      "Accounting                    30    40\n",
      "Business Development          42    38\n",
      "Engineering                   38    38\n",
      "Human Resources               44    39\n",
      "Legal                         36    51\n",
      "Marketing                     33    35\n",
      "Product Management            42    49\n",
      "Research and Development      39    34\n",
      "Sales                         38    41\n",
      "Services                      42    38\n",
      "Support                       37    43\n",
      "Training                      38    40\n",
      "\\Gender distribution by Location:\n",
      "Gender       Female  Male\n",
      "Loc                      \n",
      "Bellevue        127   135\n",
      "Los Angeles     176   194\n",
      "Wellington      168   172\n"
     ]
    }
   ],
   "source": [
    "# 2.Count the number of Males/Females in each department and for each location\n",
    "gender_department = df.groupby(['Department', 'Gender']).size().unstack(fill_value=0)\n",
    "gender_location = df.groupby(['Loc', 'Gender']).size().unstack(fill_value=0)\n",
    "\n",
    "print('Gender distribution by Department:')\n",
    "print(gender_department)\n",
    "\n",
    "print('\\Gender distribution by Location:')\n",
    "print(gender_location)"
   ]
  },
  {
   "cell_type": "code",
   "execution_count": 21,
   "id": "365e20ad",
   "metadata": {},
   "outputs": [
    {
     "name": "stdout",
     "output_type": "stream",
     "text": [
      "The department with the highest average pay is: Business Development\n",
      "              Department        Salary\n",
      "1   Business Development  77089.135802\n",
      "5              Marketing  76774.923077\n",
      "0             Accounting  76358.507463\n",
      "11              Training  76036.623377\n",
      "9               Services  75734.756098\n"
     ]
    }
   ],
   "source": [
    "#3. For which department is the average Pay highest?\n",
    "df = df.dropna(subset=['Department', 'Salary'], how='any')\n",
    "\n",
    "# Convert salary to numeric\n",
    "df['Salary'] = df['Salary'].str.replace('$', '').str.replace(',', '').astype(float)\n",
    "\n",
    "# Group by department and calculate mean salary\n",
    "dept_salaries = df.groupby('Department')['Salary'].mean().reset_index()\n",
    "\n",
    "# Sort by mean salary descending\n",
    "dept_salaries = dept_salaries.sort_values(by='Salary', ascending=False)\n",
    "\n",
    "print(f\"The department with the highest average pay is: {dept_salaries.iloc[0]['Department']}\")\n",
    "print(dept_salaries.head())"
   ]
  },
  {
   "cell_type": "code",
   "execution_count": 22,
   "id": "969edfdb",
   "metadata": {},
   "outputs": [
    {
     "name": "stdout",
     "output_type": "stream",
     "text": [
      "           Loc        Salary\n",
      "0     Bellevue  75818.280000\n",
      "1  Los Angeles  73830.526316\n",
      "2   Wellington  71988.895522\n"
     ]
    }
   ],
   "source": [
    "#4. For which location is the average Pay highest?\n",
    "# Group by location and calculate mean salary\n",
    "loc_salaries = df.groupby('Loc')['Salary'].mean().reset_index()\n",
    "\n",
    "# Sort by mean salary descending\n",
    "loc_salaries = loc_salaries.sort_values(by='Salary', ascending=False)\n",
    "\n",
    "print(loc_salaries.head())"
   ]
  },
  {
   "cell_type": "code",
   "execution_count": 23,
   "id": "3073c74a",
   "metadata": {},
   "outputs": [
    {
     "name": "stdout",
     "output_type": "stream",
     "text": [
      "Object `rating` not found.\n",
      "Percentage of employees with Good & Very Good rating: 28.541226215644823\n",
      "Percentage of employees with Poor & Very Poor rating: 19.556025369978858\n",
      "Percentage of employees with Average rating: 44.397463002114165\n"
     ]
    }
   ],
   "source": [
    "#5. What percentage of employees received good & very good rating? What about\n",
    "poor & very poor rating? and average rating?\n",
    "\n",
    "good_very_good_percentage = (df['Rating'].isin(['Good', 'Very Good']).sum() / df.shape[0]) * 100\n",
    "poor_very_poor_percentage = (df['Rating'].isin(['Poor', 'Very Poor']).sum() / df.shape[0]) * 100\n",
    "average_percentage = (df['Rating'] == 'Average').sum() / df.shape[0] * 100\n",
    "\n",
    "# Print the results\n",
    "print(\"Percentage of employees with Good & Very Good rating:\", good_very_good_percentage)\n",
    "print(\"Percentage of employees with Poor & Very Poor rating:\", poor_very_poor_percentage)\n",
    "print(\"Percentage of employees with Average rating:\", average_percentage)"
   ]
  },
  {
   "cell_type": "code",
   "execution_count": 24,
   "id": "cfb0f22e",
   "metadata": {},
   "outputs": [
    {
     "name": "stdout",
     "output_type": "stream",
     "text": [
      "Gender                          Female          Male    Pay Gap\n",
      "Department                                                     \n",
      "Accounting                72938.928571  77530.000000   5.921671\n",
      "Business Development      74627.804878  82016.486486   9.008776\n",
      "Engineering               75422.105263  67916.944444 -11.050498\n",
      "Human Resources           66578.780488  73796.052632   9.780025\n",
      "Legal                     68506.764706  72997.959184   6.152493\n",
      "Marketing                 79107.741935  73701.818182  -7.334858\n",
      "Product Management        70773.170732  76100.851064   7.000816\n",
      "Research and Development  66603.947368  69062.580645   3.560008\n",
      "Sales                     70406.666667  72039.750000   2.266920\n",
      "Services                  73075.476190  79456.216216   8.030511\n",
      "Support                   72030.000000  77414.523810   6.955444\n",
      "Training                  77082.222222  74342.894737  -3.684720\n"
     ]
    }
   ],
   "source": [
    "# 6.Calculate the gender pay gap for each department\n",
    "department_gender_gap = df.groupby(['Department', 'Gender'])['Salary'].mean().unstack()\n",
    "department_gender_gap['Pay Gap'] = department_gender_gap.apply(lambda x: ((x['Male'] - x['Female']) / x['Male']) * 100, axis=1)\n",
    "\n",
    "# Display the results\n",
    "print(department_gender_gap[['Female', 'Male', 'Pay Gap']])"
   ]
  },
  {
   "cell_type": "code",
   "execution_count": 25,
   "id": "fea1da06",
   "metadata": {},
   "outputs": [
    {
     "name": "stdout",
     "output_type": "stream",
     "text": [
      "Gender             Female          Male   Pay Gap\n",
      "Loc                                              \n",
      "Bellevue     74163.474576  76680.645161  3.282667\n",
      "Los Angeles  72297.757576  74849.945055  3.409739\n",
      "Wellington   70452.025316  73245.534591  3.813897\n"
     ]
    }
   ],
   "source": [
    "#7. Compute gender pay gap for each location. Interpret\n",
    "department_gender_gap = df.groupby(['Loc', 'Gender'])['Salary'].mean().unstack()\n",
    "department_gender_gap['Pay Gap'] = department_gender_gap.apply(lambda x: ((x['Male'] - x['Female']) / x['Male']) * 100, axis=1)\n",
    "\n",
    "# Display the results\n",
    "print(department_gender_gap[['Female', 'Male', 'Pay Gap']])"
   ]
  }
 ],
 "metadata": {
  "kernelspec": {
   "display_name": "Python 3 (ipykernel)",
   "language": "python",
   "name": "python3"
  },
  "language_info": {
   "codemirror_mode": {
    "name": "ipython",
    "version": 3
   },
   "file_extension": ".py",
   "mimetype": "text/x-python",
   "name": "python",
   "nbconvert_exporter": "python",
   "pygments_lexer": "ipython3",
   "version": "3.11.5"
  }
 },
 "nbformat": 4,
 "nbformat_minor": 5
}
